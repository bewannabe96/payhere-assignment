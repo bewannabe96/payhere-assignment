{
 "cells": [
  {
   "cell_type": "code",
   "execution_count": 1,
   "id": "79f27ebfd08ca456",
   "metadata": {
    "ExecuteTime": {
     "end_time": "2025-03-07T08:12:31.340564Z",
     "start_time": "2025-03-07T08:12:31.031848Z"
    },
    "collapsed": true,
    "jupyter": {
     "outputs_hidden": true
    }
   },
   "outputs": [],
   "source": [
    "from typing import Dict\n",
    "\n",
    "from src.utils.performance import PerformanceMonitor, monitor_performance\n",
    "import src.word_count as wc\n",
    "import pandas as pd"
   ]
  },
  {
   "cell_type": "markdown",
   "id": "3a6eb97ec2cb4d53",
   "metadata": {},
   "source": [
    "# WordCounter 구현 및 실험 "
   ]
  },
  {
   "cell_type": "code",
   "execution_count": 2,
   "id": "3852a04e34b34dd9",
   "metadata": {
    "ExecuteTime": {
     "end_time": "2025-03-07T08:12:34.113898Z",
     "start_time": "2025-03-07T08:12:34.109248Z"
    }
   },
   "outputs": [],
   "source": [
    "def evaluate_word_counter(word_counter: wc.WordCounter,\n",
    "                          repeat: int = 1,\n",
    "                          input_ratio: int = 1,\n",
    "                          input_file_path: str = \"example.txt\"):\n",
    "    \"\"\"\n",
    "    :param word_counter: 평가 대상이 되는 WordCounter instance\n",
    "    :param repeat: 평가 반복 횟수\n",
    "    :param input_ratio: Input 사이즈 배수\n",
    "    :param input_file_path: Input 파일 경로 (default `example.txt`)\n",
    "    :return: \n",
    "    \"\"\"\n",
    "    \n",
    "    pm = PerformanceMonitor()\n",
    "    pm_key = f\"{word_counter.__class__.__name__}.count\"\n",
    "    \n",
    "    reader = wc.Reader(file_path=input_file_path, repeat=input_ratio)\n",
    "    \n",
    "    @monitor_performance(pm=pm, name=pm_key)\n",
    "    def run():\n",
    "        word_counter.count(reader)\n",
    "\n",
    "    for i in range(repeat):\n",
    "        run()\n",
    "\n",
    "    return pm.get_stats(pm_key), reader.get_file_size('kb')\n"
   ]
  },
  {
   "cell_type": "markdown",
   "id": "bd7423227ce66ce6",
   "metadata": {},
   "source": [
    "1. 주어진 파일 크기의 배수를 대상으로 조사 (`input_ratios`)\n",
    "2. 다양한 구현체를 대상으로 조사\n",
    "    - `WordCounterImpl1`: 가장 단순하고 기본적인 구현 방식입니다. 순차적으로 파일을 읽어 dictionary로 관리되는 counter를 업데이트합니다.\n",
    "    - `WordCounterImpl2`: 멀티스레딩 구현 방식입니다. 파일을 읽어 dictionary로 관리되는 counter를 업데이트 하는 방식은 WordCounterImpl1과 동일하지만 파일을 batch 단위로 나누어 worker 스레드에서 이를 처리하도록 구현하였습니다.\n",
    "    - `WordCounterImpl3`: WordCounterImpl2와 비슷하게 병렬 처리 방식으로 접근하였습니다. 다만 스레드 대신 프로세스를 사용한다는 점에서 차이점이 있습니다. python의 multiprocessing 모듈 덕분에 코드가 직관적이고 깔끔하게 작성되었습니다."
   ]
  },
  {
   "cell_type": "code",
   "execution_count": 3,
   "id": "initial_id",
   "metadata": {
    "ExecuteTime": {
     "end_time": "2025-03-07T08:15:14.909057Z",
     "start_time": "2025-03-07T08:12:34.521374Z"
    }
   },
   "outputs": [],
   "source": [
    "input_ratios = [\n",
    "    1, 20, 40, 60, 80, 100, 120, 140, 160, 180, 200\n",
    "]\n",
    "\n",
    "wc_candidates = [\n",
    "    wc.WordCounterImpl1(),\n",
    "    wc.WordCounterImpl2(),\n",
    "    wc.WordCounterImpl3(),\n",
    "]\n",
    "\n",
    "performance_stats = []\n",
    "\n",
    "for ir in input_ratios:\n",
    "    for candidate in wc_candidates:\n",
    "        stats, input_size = evaluate_word_counter(candidate, repeat=20, input_ratio=ir)\n",
    "        performance_stats.append((candidate.__class__.__name__, input_size, stats.avg_time_p50))"
   ]
  },
  {
   "cell_type": "code",
   "execution_count": 4,
   "id": "f75dbde73f2d4631",
   "metadata": {
    "ExecuteTime": {
     "end_time": "2025-03-07T08:15:14.922477Z",
     "start_time": "2025-03-07T08:15:14.910633Z"
    }
   },
   "outputs": [
    {
     "data": {
      "text/html": [
       "<div>\n",
       "<style scoped>\n",
       "    .dataframe tbody tr th:only-of-type {\n",
       "        vertical-align: middle;\n",
       "    }\n",
       "\n",
       "    .dataframe tbody tr th {\n",
       "        vertical-align: top;\n",
       "    }\n",
       "\n",
       "    .dataframe thead th {\n",
       "        text-align: right;\n",
       "    }\n",
       "</style>\n",
       "<table border=\"1\" class=\"dataframe\">\n",
       "  <thead>\n",
       "    <tr style=\"text-align: right;\">\n",
       "      <th>impl</th>\n",
       "      <th>WordCounterImpl1</th>\n",
       "      <th>WordCounterImpl2</th>\n",
       "      <th>WordCounterImpl3</th>\n",
       "    </tr>\n",
       "    <tr>\n",
       "      <th>input size</th>\n",
       "      <th></th>\n",
       "      <th></th>\n",
       "      <th></th>\n",
       "    </tr>\n",
       "  </thead>\n",
       "  <tbody>\n",
       "    <tr>\n",
       "      <th>8.404297</th>\n",
       "      <td>2.851009</td>\n",
       "      <td>2.911308</td>\n",
       "      <td>151.819944</td>\n",
       "    </tr>\n",
       "    <tr>\n",
       "      <th>168.085938</th>\n",
       "      <td>48.293287</td>\n",
       "      <td>55.128466</td>\n",
       "      <td>167.096918</td>\n",
       "    </tr>\n",
       "    <tr>\n",
       "      <th>336.171875</th>\n",
       "      <td>94.224150</td>\n",
       "      <td>97.225948</td>\n",
       "      <td>190.187389</td>\n",
       "    </tr>\n",
       "    <tr>\n",
       "      <th>504.257812</th>\n",
       "      <td>143.705845</td>\n",
       "      <td>152.220076</td>\n",
       "      <td>198.943572</td>\n",
       "    </tr>\n",
       "    <tr>\n",
       "      <th>672.343750</th>\n",
       "      <td>189.468601</td>\n",
       "      <td>196.071343</td>\n",
       "      <td>227.659160</td>\n",
       "    </tr>\n",
       "    <tr>\n",
       "      <th>840.429688</th>\n",
       "      <td>237.321312</td>\n",
       "      <td>245.624781</td>\n",
       "      <td>245.131428</td>\n",
       "    </tr>\n",
       "    <tr>\n",
       "      <th>1008.515625</th>\n",
       "      <td>288.615660</td>\n",
       "      <td>296.069362</td>\n",
       "      <td>244.566202</td>\n",
       "    </tr>\n",
       "    <tr>\n",
       "      <th>1176.601562</th>\n",
       "      <td>331.336151</td>\n",
       "      <td>344.335318</td>\n",
       "      <td>262.803728</td>\n",
       "    </tr>\n",
       "    <tr>\n",
       "      <th>1344.687500</th>\n",
       "      <td>380.441644</td>\n",
       "      <td>392.199321</td>\n",
       "      <td>259.767857</td>\n",
       "    </tr>\n",
       "    <tr>\n",
       "      <th>1512.773438</th>\n",
       "      <td>431.724592</td>\n",
       "      <td>442.341219</td>\n",
       "      <td>302.692153</td>\n",
       "    </tr>\n",
       "    <tr>\n",
       "      <th>1680.859375</th>\n",
       "      <td>478.212053</td>\n",
       "      <td>492.671381</td>\n",
       "      <td>289.758466</td>\n",
       "    </tr>\n",
       "  </tbody>\n",
       "</table>\n",
       "</div>"
      ],
      "text/plain": [
       "impl         WordCounterImpl1  WordCounterImpl2  WordCounterImpl3\n",
       "input size                                                       \n",
       "8.404297             2.851009          2.911308        151.819944\n",
       "168.085938          48.293287         55.128466        167.096918\n",
       "336.171875          94.224150         97.225948        190.187389\n",
       "504.257812         143.705845        152.220076        198.943572\n",
       "672.343750         189.468601        196.071343        227.659160\n",
       "840.429688         237.321312        245.624781        245.131428\n",
       "1008.515625        288.615660        296.069362        244.566202\n",
       "1176.601562        331.336151        344.335318        262.803728\n",
       "1344.687500        380.441644        392.199321        259.767857\n",
       "1512.773438        431.724592        442.341219        302.692153\n",
       "1680.859375        478.212053        492.671381        289.758466"
      ]
     },
     "execution_count": 4,
     "metadata": {},
     "output_type": "execute_result"
    }
   ],
   "source": [
    "performance_stats_df = pd.DataFrame(data=performance_stats, columns=[\"impl\", \"input size\", \"avg. time\"])\\\n",
    "    .pivot(index='input size', columns='impl', values='avg. time')\n",
    "\n",
    "performance_stats_df"
   ]
  },
  {
   "cell_type": "code",
   "execution_count": 5,
   "id": "161163bce5aea597",
   "metadata": {
    "ExecuteTime": {
     "end_time": "2025-03-07T08:15:15.222424Z",
     "start_time": "2025-03-07T08:15:14.923010Z"
    }
   },
   "outputs": [
    {
     "data": {
      "text/plain": [
       "<Axes: xlabel='input size'>"
      ]
     },
     "execution_count": 5,
     "metadata": {},
     "output_type": "execute_result"
    },
    {
     "data": {
      "image/png": "[encoded data removed]",
      "text/plain": [
       "<Figure size 640x480 with 1 Axes>"
      ]
     },
     "metadata": {},
     "output_type": "display_data"
    }
   ],
   "source": [
    "performance_stats_df.plot()"
   ]
  },
  {
   "cell_type": "markdown",
   "id": "8024f062",
   "metadata": {},
   "source": [
    "- `WordCounterImpl1`은 예상대로 input size가 늘어남에 따라 그에 비례하여 선형적으로 실행시간이 늘어남을 보여줍니다. \n",
    "- GIL의 존재로 python에서는 멀티스레드로 구현하여도 단일 CPU코어를 사용하는 제약 때문에 `WordCounterImpl2`는 `WordCounterImpl1`과 거의 동일한 성능을 보여주었습니다. input size가 늘어남에 따라 동기화를 위한 lock acquire race condition 확률이 늘어나면서 성능이 오히려 저하됨을 확인하였습니다.\n",
    "- 실제 병렬 처리를 하는 `WordCounterImpl3`는 낮은 input ratio 구간에서는 리소스 생성과 같은 시스템 호출로 인하여 성능이 다른 두 구현체 보다 떨어지지만 input size가 높아질 수록 확연한 성능 차이를 보여주고 있습니다."
   ]
  },
  {
   "cell_type": "markdown",
   "id": "bc0b36840e9c0755",
   "metadata": {},
   "source": [
    "# TopNPicker 구현 및 실험"
   ]
  },
  {
   "cell_type": "code",
   "execution_count": 6,
   "id": "b3a091e0bd727646",
   "metadata": {
    "ExecuteTime": {
     "end_time": "2025-03-07T08:15:15.226068Z",
     "start_time": "2025-03-07T08:15:15.223476Z"
    }
   },
   "outputs": [],
   "source": [
    "from itertools import islice, product\n",
    "import random\n",
    "\n",
    "def generate_n_size_count(n) -> Dict[str, int]:\n",
    "    \"\"\"\n",
    "    단어 n개를 포함한 count dictionary 생성\n",
    "    \"\"\"\n",
    "    \n",
    "    alphabet = 'ABCDEFGHIJKLMNOPQRSTUVWXYZ'\n",
    "    generator = (''.join(p) for p in product(alphabet, repeat=5))\n",
    "    words = islice(generator, n)\n",
    "    \n",
    "    return {word: random.randint(1, 100) for word in words}\n",
    "\n",
    "\n",
    "def evaluate_top_n_picker(top_n_picker: wc.TopNPicker,\n",
    "                          count_dict: Dict[str, int],\n",
    "                          n: int,\n",
    "                          repeat: int = 1):\n",
    "    \"\"\"\n",
    "    :param top_n_picker: 평가 대상이 되는 TopNPicker instance\n",
    "    :param count_dict: count dictionary\n",
    "    :param n: n\n",
    "    :param repeat: 평가 반복 횟수\n",
    "    :return: \n",
    "    \"\"\"\n",
    "\n",
    "    pm = PerformanceMonitor()\n",
    "    pm_key = f\"{top_n_picker.__class__.__name__}.count\"\n",
    "\n",
    "    @monitor_performance(pm=pm, name=pm_key)\n",
    "    def run():\n",
    "        top_n_picker.pick_top_n(count_dict, n)\n",
    "\n",
    "    for i in range(repeat):\n",
    "        run()\n",
    "\n",
    "    return pm.get_stats(pm_key)"
   ]
  },
  {
   "cell_type": "markdown",
   "id": "5f5216b1fd86f27",
   "metadata": {},
   "source": [
    "1. 고유 단어의 개수 (dictionary size) 대상으로 조사 (`dictionary_sizes`)\n",
    "2. 다양한 구현체를 대상으로 조사\n",
    "    - `TopNPickerImpl1`: python의 내장함수 `sorted`를 이용해 정렬한 후 상위 n개를 선택하는 방식으로 구현하였습니다.\n",
    "    - `TopNPickerImpl2`: heap을 이용하여 하위 n개를 선택하는 python의 heapq 모듈을 사용하여 구현하였습니다.\n"
   ]
  },
  {
   "cell_type": "code",
   "execution_count": 7,
   "id": "2f75b15d701a21cc",
   "metadata": {
    "ExecuteTime": {
     "end_time": "2025-03-07T08:15:15.251572Z",
     "start_time": "2025-03-07T08:15:15.226861Z"
    }
   },
   "outputs": [],
   "source": [
    "dictionary_sizes = [\n",
    "    1, 50, 100, 150, 200, 250, 300, 350, 400, 450, 500, 600, 700, 800\n",
    "]\n",
    "\n",
    "top_n_picker_candidates = [\n",
    "    wc.TopNPickerImpl1(),\n",
    "    wc.TopNPickerImpl2(),\n",
    "]\n",
    "\n",
    "performance_stats = []\n",
    "\n",
    "for ds in dictionary_sizes:\n",
    "    count_dict = generate_n_size_count(ds)\n",
    "    for candidate in top_n_picker_candidates:\n",
    "        stats = evaluate_top_n_picker(candidate, count_dict, 5, repeat=20)\n",
    "        performance_stats.append((candidate.__class__.__name__, ds, stats.avg_time_p50))"
   ]
  },
  {
   "cell_type": "code",
   "execution_count": 8,
   "id": "bd971263bc181b76",
   "metadata": {
    "ExecuteTime": {
     "end_time": "2025-03-07T08:15:15.256281Z",
     "start_time": "2025-03-07T08:15:15.252086Z"
    }
   },
   "outputs": [
    {
     "data": {
      "text/html": [
       "<div>\n",
       "<style scoped>\n",
       "    .dataframe tbody tr th:only-of-type {\n",
       "        vertical-align: middle;\n",
       "    }\n",
       "\n",
       "    .dataframe tbody tr th {\n",
       "        vertical-align: top;\n",
       "    }\n",
       "\n",
       "    .dataframe thead th {\n",
       "        text-align: right;\n",
       "    }\n",
       "</style>\n",
       "<table border=\"1\" class=\"dataframe\">\n",
       "  <thead>\n",
       "    <tr style=\"text-align: right;\">\n",
       "      <th>impl</th>\n",
       "      <th>TopNPickerImpl1</th>\n",
       "      <th>TopNPickerImpl2</th>\n",
       "    </tr>\n",
       "    <tr>\n",
       "      <th>dict size</th>\n",
       "      <th></th>\n",
       "      <th></th>\n",
       "    </tr>\n",
       "  </thead>\n",
       "  <tbody>\n",
       "    <tr>\n",
       "      <th>1</th>\n",
       "      <td>0.000282</td>\n",
       "      <td>0.000347</td>\n",
       "    </tr>\n",
       "    <tr>\n",
       "      <th>50</th>\n",
       "      <td>0.004985</td>\n",
       "      <td>0.006221</td>\n",
       "    </tr>\n",
       "    <tr>\n",
       "      <th>100</th>\n",
       "      <td>0.010360</td>\n",
       "      <td>0.010014</td>\n",
       "    </tr>\n",
       "    <tr>\n",
       "      <th>150</th>\n",
       "      <td>0.016104</td>\n",
       "      <td>0.013070</td>\n",
       "    </tr>\n",
       "    <tr>\n",
       "      <th>200</th>\n",
       "      <td>0.023040</td>\n",
       "      <td>0.016299</td>\n",
       "    </tr>\n",
       "    <tr>\n",
       "      <th>250</th>\n",
       "      <td>0.031038</td>\n",
       "      <td>0.020027</td>\n",
       "    </tr>\n",
       "    <tr>\n",
       "      <th>300</th>\n",
       "      <td>0.036695</td>\n",
       "      <td>0.022086</td>\n",
       "    </tr>\n",
       "    <tr>\n",
       "      <th>350</th>\n",
       "      <td>0.045885</td>\n",
       "      <td>0.025099</td>\n",
       "    </tr>\n",
       "    <tr>\n",
       "      <th>400</th>\n",
       "      <td>0.054099</td>\n",
       "      <td>0.027570</td>\n",
       "    </tr>\n",
       "    <tr>\n",
       "      <th>450</th>\n",
       "      <td>0.061967</td>\n",
       "      <td>0.031515</td>\n",
       "    </tr>\n",
       "    <tr>\n",
       "      <th>500</th>\n",
       "      <td>0.070919</td>\n",
       "      <td>0.034462</td>\n",
       "    </tr>\n",
       "    <tr>\n",
       "      <th>600</th>\n",
       "      <td>0.084595</td>\n",
       "      <td>0.040965</td>\n",
       "    </tr>\n",
       "    <tr>\n",
       "      <th>700</th>\n",
       "      <td>0.099811</td>\n",
       "      <td>0.047944</td>\n",
       "    </tr>\n",
       "    <tr>\n",
       "      <th>800</th>\n",
       "      <td>0.119274</td>\n",
       "      <td>0.053991</td>\n",
       "    </tr>\n",
       "  </tbody>\n",
       "</table>\n",
       "</div>"
      ],
      "text/plain": [
       "impl       TopNPickerImpl1  TopNPickerImpl2\n",
       "dict size                                  \n",
       "1                 0.000282         0.000347\n",
       "50                0.004985         0.006221\n",
       "100               0.010360         0.010014\n",
       "150               0.016104         0.013070\n",
       "200               0.023040         0.016299\n",
       "250               0.031038         0.020027\n",
       "300               0.036695         0.022086\n",
       "350               0.045885         0.025099\n",
       "400               0.054099         0.027570\n",
       "450               0.061967         0.031515\n",
       "500               0.070919         0.034462\n",
       "600               0.084595         0.040965\n",
       "700               0.099811         0.047944\n",
       "800               0.119274         0.053991"
      ]
     },
     "execution_count": 8,
     "metadata": {},
     "output_type": "execute_result"
    }
   ],
   "source": [
    "performance_stats_df = pd.DataFrame(data=performance_stats, columns=[\"impl\", \"dict size\", \"avg. time\"])\\\n",
    "    .pivot(index='dict size', columns='impl', values='avg. time')\n",
    "\n",
    "performance_stats_df"
   ]
  },
  {
   "cell_type": "code",
   "execution_count": 9,
   "id": "73a8289396ddcb20",
   "metadata": {
    "ExecuteTime": {
     "end_time": "2025-03-07T08:15:15.301627Z",
     "start_time": "2025-03-07T08:15:15.256690Z"
    }
   },
   "outputs": [
    {
     "data": {
      "text/plain": [
       "<Axes: xlabel='dict size'>"
      ]
     },
     "execution_count": 9,
     "metadata": {},
     "output_type": "execute_result"
    },
    {
     "data": {
      "image/png": "[encoded data removed]",
      "text/plain": [
       "<Figure size 640x480 with 1 Axes>"
      ]
     },
     "metadata": {},
     "output_type": "display_data"
    }
   ],
   "source": [
    "performance_stats_df.plot()"
   ]
  },
  {
   "cell_type": "markdown",
   "id": "ca6e3cfe3ed59df5",
   "metadata": {},
   "source": [
    "# 결론"
   ]
  },
  {
   "cell_type": "code",
   "execution_count": 10,
   "id": "10f89e49e8f03227",
   "metadata": {
    "ExecuteTime": {
     "end_time": "2025-03-07T08:15:15.308686Z",
     "start_time": "2025-03-07T08:15:15.302445Z"
    }
   },
   "outputs": [
    {
     "name": "stdout",
     "output_type": "stream",
     "text": [
      "`Rebecca`라는 단어의 등장 횟수: 27\n"
     ]
    }
   ],
   "source": [
    "# 전체 내용에서 `Rebecca`라는 단어가 몇번 나오는지 세는 가장 효율적인 파이썬 코드를 작성하시오.\n",
    "\n",
    "input_path = 'example.txt'\n",
    "find_word = 'Rebecca'\n",
    "\n",
    "reader = wc.Reader(file_path=input_path)\n",
    "word_counter = wc.WordCounterImpl1() if reader.get_file_size('kb') < 840 else wc.WordCounterImpl3()\n",
    "count_dict = word_counter.count(reader, threshold=len(find_word))\n",
    "find_count = count_dict.get(find_word.lower(), 0)\n",
    "\n",
    "print(\"`Rebecca`라는 단어의 등장 횟수:\", find_count)"
   ]
  },
  {
   "cell_type": "code",
   "execution_count": 11,
   "id": "dedc40141502a393",
   "metadata": {
    "ExecuteTime": {
     "end_time": "2025-03-07T08:15:15.314375Z",
     "start_time": "2025-03-07T08:15:15.309292Z"
    }
   },
   "outputs": [
    {
     "name": "stdout",
     "output_type": "stream",
     "text": [
      "가장 많이 등장한 단어 Top 5\n",
      "rebecca\t\t(27회)\n",
      "with\t\t(27회)\n",
      "that\t\t(26회)\n",
      "fortune\t\t(22회)\n",
      "family\t\t(13회)\n"
     ]
    }
   ],
   "source": [
    "# 4글자 이상의 단어 중, 가장 많이 나온 단어 (case-insensitive) Top 5를 추출하는 가장 효율적인 파이썬 코드를 작성하시오.\n",
    "\n",
    "input_path = 'example.txt'\n",
    "threshold = 4\n",
    "n = 5\n",
    "\n",
    "reader = wc.Reader(file_path=input_path)\n",
    "word_counter = wc.WordCounterImpl1() if reader.get_file_size('kb') < 840 else wc.WordCounterImpl3()\n",
    "count_dict = word_counter.count(reader, threshold=threshold)\n",
    "top_n_picker = wc.TopNPickerImpl2()\n",
    "top_n = top_n_picker.pick_top_n(count_dict, n)\n",
    "\n",
    "print(\"가장 많이 등장한 단어 Top 5\")\n",
    "for row in top_n:\n",
    "    print(f\"{row[0]}\\t\\t({row[1]}회)\")"
   ]
  },
  {
   "cell_type": "code",
   "execution_count": null,
   "id": "9fefa3cbbe8ef149",
   "metadata": {},
   "outputs": [],
   "source": []
  }
 ],
 "metadata": {
  "kernelspec": {
   "display_name": "Python 3 (ipykernel)",
   "language": "python",
   "name": "python3"
  },
  "language_info": {
   "codemirror_mode": {
    "name": "ipython",
    "version": 3
   },
   "file_extension": ".py",
   "mimetype": "text/x-python",
   "name": "python",
   "nbconvert_exporter": "python",
   "pygments_lexer": "ipython3",
   "version": "3.12.3"
  }
 },
 "nbformat": 4,
 "nbformat_minor": 5
}
